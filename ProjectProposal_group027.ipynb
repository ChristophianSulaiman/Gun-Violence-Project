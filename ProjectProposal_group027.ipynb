{
  "cells": [
    {
      "cell_type": "markdown",
      "metadata": {
        "id": "2amCuzxAbQYL"
      },
      "source": [
        "# COGS 108 - Project Proposal"
      ]
    },
    {
      "cell_type": "markdown",
      "metadata": {
        "id": "zY4rzdVhbQYM"
      },
      "source": [
        "# Names\n",
        "\n",
        "- Christophian Austin Sulaiman\n",
        "- Nicholas Gao\n",
        "- Fayaz Shaik\n",
        "- Shawna Majidansari\n",
        "- Sophia Chrysanthakopoulos"
      ]
    },
    {
      "cell_type": "markdown",
      "metadata": {
        "id": "r55DVdfqbQYO"
      },
      "source": [
        "# Research Question"
      ]
    },
    {
      "cell_type": "markdown",
      "metadata": {
        "id": "zjeps-WHbQYO"
      },
      "source": [
        "**Is there a quantifiable relationship between the number of firearm dealers to gun violence in that area?**\n",
        "\n",
        "**How do socio-economic factors, such as poverty or education levels, interact with the density of firearm dealers in contributing to gun violence rates?**\n",
        "\n"
      ]
    },
    {
      "cell_type": "markdown",
      "metadata": {
        "id": "ZJL5C7BhbQYO"
      },
      "source": [
        "## Background and Prior Work"
      ]
    },
    {
      "cell_type": "markdown",
      "metadata": {
        "id": "2GhdKaWEbQYP"
      },
      "source": [
        "\n",
        "We were inspired by a Triton Alert text message while meeting over zoom. When we started asking questions about crime on campus, our discussion eventually led us to landing on the topic of gun violence. We decided this would be a great topic, as we found a large amount of research and available databases on gun violence. We already knew about the prevalence of gun violence in the U.S., especially school shootings. Upon looking more into the topic, we stumbled upon two databases of federal Licenses per state with one that ranges from 2014-2017 [[1]](https://www.atf.gov/firearms/listing-federal-firearms-licensees-ffls-2015/) (https://www.atf.gov/firearms/listing-federal-firearms-licensees-ffls-2015), and another that provides data only from 2020 (https://www.statista.com/statistics/215670/number-of-federal-firearms-licensees-in-the-us-by-state/ ).\n",
        "\n",
        "We concluded that it would be interesting to explore the relationship between gun licenses and gun violence in an area. A federal Firearms License is required in the United States in order to legally engage in the business of selling firearms [[2]](https://www.atf.gov/firearms/listing-federal-firearms-licensees-ffls-2015/). People in all areas of the firearm industry, from defense contractors to antique collectors, to individual businesses must possess a license to conduct business legally. A report titled “Inside the Gun Shop: Firearms Dealers and their Impact” from 2023 posted on Everytown Research and Policy (https://everytownresearch.org/report/firearms-dealers-and-their-impact/#:~:text=In%202022%2C%20there%20were%20nearly,number%20of%20US%20post%20offices) gave us insight into how important it is to look at data about licensed gun dealers may be for learning more about gun violence and possibly finding solutions to improving public safety. The article states that “In 2022, there were nearly 78,000 licensed gun dealers in the United State–more than all Mcdonald’s, Burger King, Subway and Wendy’s locations combined, and twice the number of US post offices.” [[3]](https://www.gunviolencearchive.org/reports) This fact alone is cause for concern, and speaks to the volume of this issue. The article also notes that over half of all gun dealers are in residential communities, one in five public elementary schools are within half a mile of a gun dealer, and a gun dealer license costs less than most liquor store or restaurant licenses.\n",
        "\n",
        "Another useful database we found is the Gun Violence Archive (https://www.gunviolencearchive.org/reports) which shows that 2020 saw a massive spike in gun violence [[4]](https://www.forbes.com/advisor/legal/criminal-defense/crime-rate-by-state/). This caused us to think about how COVID-19 may have impacted gun violence rates, as we know that unemployment rates spiked resulting in a spike in financial instability. When researching which states in the United States have the most violent crime, we were surprised to see that Alaska is ranked number 10 according to a Forbes Advisor article (https://www.forbes.com/advisor/legal/criminal-defense/crime-rate-by-state/). We had hypothesized that states with the highest populations would have the most violent crime, but upon further research we found that there seems to be a correlation between boredom and violent crime. States with less employment are prone to more drug abuse and violence [[5]](https://www.forbes.com/advisor/legal/criminal-defense/crime-rate-by-state/.). However, since using boredom as a part of a relationship to gun violence is too broad and complex to analyze for this project, we decided it would be possible to instead research the socio-economic factors such as poverty, incarceration, and education levels. Thus, as a possible subquestion, we may ask about the relationship between socio-economic factors and density of firearm dealers.  \n",
        "\n",
        "\n",
        "Continuing from the prior work and databases explored, another crucial dataset (https://catalog.data.gov/dataset/index-violent-property-and-firearm-rates-by-county-beginning-1990)  includes county-level data on index violent, property, and firearm rates from 1990 to 2022. This dataset provides a detailed breakdown of violent crime, property crime, and specific firearm-related incidents across various counties, allowing for a granular analysis of trends over three decades, potentially finding the correlation between the presence of firearms and violence [[6]](https://catalog.data.gov/dataset/index-violent-property-and-firearm-rates-by-county-beginning-1990). The availability of data over such a lengthy period is invaluable for tracking changes and developments in crime patterns and the effectiveness of law enforcement strategies. By incorporating this dataset into our analysis, we can perform a more comprehensive evaluation of how the prevalence of firearm dealers might correlate with crime rates across different regions. This approach will enhance our understanding of the socio-economic factors at play and could potentially uncover more nuanced relationships within the data.\n",
        "\n",
        "\n",
        "References:\n",
        "\n",
        "[1] Bureau of Alcohol, Tobacco, Firearms and Explosives. “Listing of Federal Firearms Licensees (FFLs) - 2015.” ATF, https://www.atf.gov/firearms/listing-federal-firearms-licensees-ffls-2015.\n",
        "\n",
        "\n",
        "[2] “Number of Federal Firearms Licensees in the U.S. by State.” Statista, https://www.statista.com/statistics/215670/number-of-federal-firearms-licensees-in-the-us-by-state/.\n",
        "\n",
        "\n",
        "[3] Everytown for Gun Safety Support Fund. “Firearms Dealers and Their Impact.” EverytownResearch.org, 2022, https://everytownresearch.org/report/firearms-dealers-and-their-impact/#:~:text=In%202022%2C%20there%20were%20nearly,number%20of%20US%20post%20offices.\n",
        "\n",
        "\n",
        "[4] “Reports.” Gun Violence Archive, https://www.gunviolencearchive.org/reports.\n",
        "\n",
        "\n",
        "[5] Nicholas Pell. “Crime Rate By State.” Forbes Advisor, https://www.forbes.com/advisor/legal/criminal-defense/crime-rate-by-state/.\n",
        "\n",
        "\n",
        "[6] “Index Violent, Property, and Firearm Rates by County, Beginning 1990.” Data.gov, https://catalog.data.gov/dataset/index-violent-property-and-firearm-rates-by-county-beginning-1990.\n",
        "\n"
      ]
    },
    {
      "cell_type": "markdown",
      "metadata": {
        "id": "yL6VgnQ4bQYQ"
      },
      "source": [
        "# Hypothesis\n"
      ]
    },
    {
      "cell_type": "markdown",
      "metadata": {
        "id": "a568pjbhbQYQ"
      },
      "source": [
        "\n",
        "We believe that there is a quantifiable relationship between the number of firearm dealers and gun violence in that area and that a greater number of different socio-economic factors will cause a greater density of firearm dealers to be present in the area.\n",
        "\n",
        "\n",
        "Our hypothesis aims to ensure the two different research questions that we raised, and that there is a proportional relationship between the number of socio-economic factors and gun dealers and another, more important, relationship between the number of gun dealers and gun violence in an area (more precisely, when there is more of a, there is more of b and vice-versa). Our assumption before reviewing the data thoroughly is that the number of firearm dealers within a vicinity is proportionally related to the number of number of guns available for sell to regular consumers which implies a higher chance of regular consumers increasing the amount of violence they commit, especially with such a powerful weapon, like a gun, at their disposal. Our secondary hypothesis of there being many socio-economic factors in the area usually implies much dissatisfaction by the residents in the area and thus acting out on their dissatisfaction through means of gun violence.\n"
      ]
    },
    {
      "cell_type": "markdown",
      "metadata": {
        "id": "ztgItXubbQYR"
      },
      "source": [
        "# Data"
      ]
    },
    {
      "cell_type": "markdown",
      "metadata": {
        "id": "ClA2adgbbQYR"
      },
      "source": [
        "\n",
        "Variables:\n",
        "\n",
        "- Gun violence rates: Number of gun-related incidents, including homicides,\n",
        "suicides, and accidents, per unit area (e.g., per 100,000 population) over a specified time period.\n",
        "\n",
        "- Density of firearm dealers: Number of licensed firearm dealers per unit area (e.g., per square mile) in each geographical region.\n",
        "\n",
        "- Socio-economic factors: Variables such as poverty rate, unemployment rate, median household income, education level (e.g., percentage of population with a high school diploma or higher), income inequality indices, and other relevant socio-economic indicators.\n",
        "\n",
        "- Demographic factors: Population density, racial demographics, urbanization level, etc.\n",
        "\n",
        "- Geographic variables: Location data (latitude and longitude) for each observation point.\n",
        "\n",
        "- Time period: Data should cover a sufficiently long time span to capture trends and variations. Ideally, this would span several years to account for fluctuations and changes over time.\n",
        "\n",
        "Data Storage:\n",
        "\n",
        "- Gun violence rates, the density of firearm dealers, socio-economic factors, and demographic variables would be stored as numerical values.\n",
        "- Geographic variables would be represented as specific geographical areas, such as a city, county, or state, depending on the granularity of the data.\n",
        "- Time period would be stored as a date or year.\n",
        "\n",
        "Sample Size:\n",
        "\n",
        "- The number of observations would depend on the level of granularity desired (e.g., city-level, county-level, state-level).\n",
        "- For robust analysis, a dataset with hundreds or thousands of observations would be ideal to ensure statistical power and generalizability.\n",
        "- The time period covered by the dataset should be sufficiently long to capture variations and trends in gun violence rates, socio-economic factors, and density of firearm dealers.\n",
        "- The dataset would cover multiple observations across different geographical regions to ensure representation and reduce bias.\n",
        "- Observations should ideally cover a significant portion of the population to provide a representative sample.\n",
        "Time Period:\n",
        "- The dataset should cover a period long enough to capture meaningful trends and variations in the variables of interest.\n",
        "- Ideally, the dataset would cover at least a decade to account for long-term changes and to provide a comprehensive understanding of the relationship between firearm dealers, socio-economic factors, and gun violence rates.\n"
      ]
    },
    {
      "cell_type": "markdown",
      "metadata": {
        "id": "teY5hcFRbQYS"
      },
      "source": [
        "# Ethics & Privacy"
      ]
    },
    {
      "cell_type": "markdown",
      "metadata": {
        "id": "9iM5VxsUbQYS"
      },
      "source": [
        "Researching the relationship between the number of firearm dealers and gun violence involves navigating a complex landscape of ethics and privacy concerns. Here’s a breakdown of the ethical and privacy considerations related to our research question:\n",
        "\n",
        "**Data Sourcing and Bias:** Ensuring that the data used, such as sales records, crime statistics, and demographic information, is unbiased and sourced from reputable sources is crucial. Data from firearm dealers and gun violence should come from reliable sources such as government agencies and reputable research institutions to minimize bias.\n",
        "\n",
        "**Privacy of Individuals:** When analyzing data related to gun violence, it is crucial to protect the privacy of all individuals involved. This includes victims, perpetrators, and any other individuals that may be mentioned within the data. Ensuring anonymity and confidentiality is essential to preventing potential harm and stigmatization.\n",
        "\n",
        "**Transparency:** Clearly stating the sources of data and the methodology used in the research is essential for transparency and accountability. This helps to establish trust and allows others to verify the findings independently.\n",
        "**Limitations of Data:** Acknowledging the limitations of the data is crucial for ethical research. For example, the data on gun violence may not capture all incidents, and cases may be underreported or misclassified. Understanding and acknowledging these limitations helps in interpreting the data and results accurately.\n",
        "\n",
        "**Community Impact:** Research on sensitive topics such as gun violence can have significant implications for communities. It is important to consider how the research findings may impact different stakeholders and to engage with community members in an ethical and respectful manner.\n",
        "\n",
        "**Socioeconomic Factors:** When studying the interactions between firearm dealers, socioeconomic factors, and gun violence, it is important to approach the analysis with sensitivity to issues of inequality and social justice. This could involve examining the distribution of firearm dealers in different neighborhoods or the correlation between poverty rates and gun violence. Consideration should be given to how the research findings may be used to address systemic issues contributing to gun violence.\n",
        "\n",
        "**Interpretation and Dissemination:** Ethically disseminating the research findings involves presenting the results in a clear and responsive manner. This includes avoiding sensationalism, providing context, and ensuring that the findings are interpreted within the appropriate context. The research will be shared through community forums and the class to reach a wide audience and promote informed discussions.\n",
        "\n",
        "By meticulously addressing these ethical and privacy considerations within our project, we can ensure that our findings are robust, reliable, and respectful of the individuals and communities affected by gun violence. Our commitment to these principles is key to the integrity of our research.\n"
      ]
    },
    {
      "cell_type": "markdown",
      "metadata": {
        "id": "29NWe8pobQYS"
      },
      "source": [
        "# Team Expectations"
      ]
    },
    {
      "cell_type": "markdown",
      "metadata": {
        "id": "JIPTQtqpbQYT"
      },
      "source": [
        "\n",
        "Everyone has read the Team Policies on Github, and our team expectations are based on respect, fairness, and communication. We expect everyone to act and communicate respectfully. The project must be worked on by equal contribution from all members. In order to uphold a high standard of communication, all members must provide constructive feedback, listen respectfully to each other, engage in problem solving together and inform all members of changes or new ideas made. The main mode of communication will be via text and Github. Weekly meetings will be held to discuss and ensure everyone is on task. In order to divide up work in the best way possible, we will assess everyone’s strengths and weaknesses and act accordingly. We are here to engage in efficient and supportive teamwork!"
      ]
    },
    {
      "cell_type": "markdown",
      "metadata": {
        "id": "NDFzbiJJbQYT"
      },
      "source": [
        "# Project Timeline Proposal"
      ]
    },
    {
      "cell_type": "markdown",
      "metadata": {
        "id": "0mytwQvwbQYT"
      },
      "source": [
        "Specify your team's specific project timeline. An example timeline has been provided. Changes the dates, times, names, and details to fit your group's plan.\n",
        "\n",
        "If you think you will need any special resources or training outside what we have covered in COGS 108 to solve your problem, then your proposal should state these clearly. For example, if you have selected a problem that involves implementing multiple neural networks, please state this so we can make sure you know what you’re doing and so we can point you to resources you will need to implement your project. Note that you are not required to use outside methods.\n",
        "\n",
        "\n",
        "\n",
        "| Meeting Date  | Meeting Time | Completed Before Meeting  | Discuss at Meeting |\n",
        "|---------------|--------------|---------------------------|--------------------|\n",
        "| 5/1    | 6pm       | Finalize Project Proposal | Submit Project Proposal |\n",
        "| 5/7    |6pm          | Review roles & tasks      | Discuss strengths and weaknesses; Divide up work; Start drafting sections of the final project |\n",
        "| 5/14   | 6pm          | Gather and organize data  | Work on parsing through data; Data pre-processing and cleaning; Re-ordering columns; Discuss analysis plans and models |\n",
        "| 5/21   | 6pm          | Complete EDA preparations | Complete EDA |\n",
        "| 5/28   | 6pm          | Prepare data visualizations | Visualize and analyze results; Draft conclusion, discussion, and final results |\n",
        "| 6/4     | 6pm       | Final edits and review    | Finalize any last minute edits; Turn in project |"
      ]
    }
  ],
  "metadata": {
    "kernelspec": {
      "display_name": "Python 3 (ipykernel)",
      "language": "python",
      "name": "python3"
    },
    "language_info": {
      "codemirror_mode": {
        "name": "ipython",
        "version": 3
      },
      "file_extension": ".py",
      "mimetype": "text/x-python",
      "name": "python",
      "nbconvert_exporter": "python",
      "pygments_lexer": "ipython3",
      "version": "3.9.7"
    },
    "colab": {
      "provenance": []
    }
  },
  "nbformat": 4,
  "nbformat_minor": 0
}